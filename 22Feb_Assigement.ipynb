{
 "cells": [
  {
   "cell_type": "code",
   "execution_count": 1,
   "id": "d2e21b4e",
   "metadata": {},
   "outputs": [
    {
     "data": {
      "text/plain": [
       "' Q1 '"
      ]
     },
     "execution_count": 1,
     "metadata": {},
     "output_type": "execute_result"
    }
   ],
   "source": [
    "''' Q1 '''\n"
   ]
  },
  {
   "cell_type": "code",
   "execution_count": 3,
   "id": "3eccdd90",
   "metadata": {},
   "outputs": [
    {
     "name": "stdout",
     "output_type": "stream",
     "text": [
      "0     3\n",
      "1     4\n",
      "2     5\n",
      "3     6\n",
      "4    78\n",
      "dtype: int64\n"
     ]
    },
    {
     "data": {
      "text/plain": [
       "pandas.core.series.Series"
      ]
     },
     "execution_count": 3,
     "metadata": {},
     "output_type": "execute_result"
    }
   ],
   "source": [
    "import pandas as pd\n",
    "data =[ 3,4,5,6,78 ] \n",
    "ser = pd.Series(data)\n",
    "print(ser)\n",
    "type(ser)"
   ]
  },
  {
   "cell_type": "code",
   "execution_count": 4,
   "id": "0f71a1a2",
   "metadata": {},
   "outputs": [
    {
     "data": {
      "text/plain": [
       "' Q2 '"
      ]
     },
     "execution_count": 4,
     "metadata": {},
     "output_type": "execute_result"
    }
   ],
   "source": [
    "''' Q2 '''\n"
   ]
  },
  {
   "cell_type": "code",
   "execution_count": 5,
   "id": "bc194059",
   "metadata": {},
   "outputs": [
    {
     "name": "stdout",
     "output_type": "stream",
     "text": [
      "0                       g\n",
      "1                       e\n",
      "2                       e\n",
      "3                       k\n",
      "4                       s\n",
      "5                      10\n",
      "6                      20\n",
      "7                      30\n",
      "8                      40\n",
      "9    [11, 22, 33, 44, 55]\n",
      "dtype: object\n"
     ]
    }
   ],
   "source": [
    "import pandas as pd\n",
    "mylist = ['g', 'e', 'e', 'k', 's',10,20,30,40 , [11,22,33,44,55]]\n",
    "ser = pd.Series(mylist)\n",
    "print(ser)"
   ]
  },
  {
   "cell_type": "code",
   "execution_count": 6,
   "id": "3eb84d87",
   "metadata": {},
   "outputs": [
    {
     "data": {
      "text/plain": [
       "' Q3 '"
      ]
     },
     "execution_count": 6,
     "metadata": {},
     "output_type": "execute_result"
    }
   ],
   "source": [
    "''' Q3 '''"
   ]
  },
  {
   "cell_type": "code",
   "execution_count": 7,
   "id": "94bf9551",
   "metadata": {},
   "outputs": [
    {
     "data": {
      "text/plain": [
       "pandas.core.frame.DataFrame"
      ]
     },
     "execution_count": 7,
     "metadata": {},
     "output_type": "execute_result"
    }
   ],
   "source": [
    "import lxml\n",
    "import pandas as pd\n",
    "\n",
    "df = pd.read_csv(\"student.csv\")\n",
    "type(df)"
   ]
  },
  {
   "cell_type": "code",
   "execution_count": 8,
   "id": "3545de64",
   "metadata": {},
   "outputs": [
    {
     "data": {
      "text/plain": [
       "' Q4 '"
      ]
     },
     "execution_count": 8,
     "metadata": {},
     "output_type": "execute_result"
    }
   ],
   "source": [
    "''' Q4 '''"
   ]
  },
  {
   "cell_type": "code",
   "execution_count": 9,
   "id": "7521f253",
   "metadata": {},
   "outputs": [
    {
     "name": "stdout",
     "output_type": "stream",
     "text": [
      "11        apple\n",
      "33       orange\n",
      "88    jackfruit\n",
      "dtype: object\n",
      "\n",
      "0         jammu\n",
      "1    maharastra\n",
      "2         bihar\n",
      "dtype: object\n"
     ]
    }
   ],
   "source": [
    "import pandas as pd\n",
    "\n",
    "fruits = [ \"apple\" ,\"orange\" ,\"jackfruit\" ]\n",
    "ftser1 = pd.Series(fruits, index=[11,33,88])\n",
    "type(ftser1)\n",
    "print(ftser1)\n",
    "print(\"\")\n",
    "states = [\"jammu\" ,\"maharastra\", \"bihar\"]\n",
    "stser1 = pd.Series(states)\n",
    "type(states)\n",
    "print(stser1)"
   ]
  },
  {
   "cell_type": "code",
   "execution_count": 10,
   "id": "ecd134cc",
   "metadata": {},
   "outputs": [
    {
     "name": "stdout",
     "output_type": "stream",
     "text": [
      "  jack_fruit    john_fruit\n",
      "0     apples        guavas\n",
      "1    oranges         kiwis\n",
      "2    bananas  strawberries\n"
     ]
    }
   ],
   "source": [
    "fruits_jack = [\"apples\", \"oranges\", \"bananas\"]\n",
    "fruits_john = [\"guavas\", \"kiwis\", \"strawberries\"]\n",
    "\n",
    "all_fruits = { \"jack_fruit\" : fruits_jack, \n",
    "               \"john_fruit\" : fruits_john  }\n",
    "\n",
    "new_fruit = pd.DataFrame(all_fruits)\n",
    "type(new_fruit)\n",
    "print(new_fruit)"
   ]
  },
  {
   "cell_type": "code",
   "execution_count": 11,
   "id": "90381dcd",
   "metadata": {},
   "outputs": [
    {
     "data": {
      "text/plain": [
       "' Q5 '"
      ]
     },
     "execution_count": 11,
     "metadata": {},
     "output_type": "execute_result"
    }
   ],
   "source": [
    "''' Q5 '''"
   ]
  },
  {
   "cell_type": "code",
   "execution_count": 12,
   "id": "291f4106",
   "metadata": {},
   "outputs": [
    {
     "name": "stdout",
     "output_type": "stream",
     "text": [
      "   Courses      Fee Duration  Discount\n",
      "0    Spark  22000.0    30day      1000\n",
      "1  PySpark  25000.0   50days      2300\n",
      "2   Hadoop  23000.0   55days      1000\n",
      "3   Python  24000.0   40days      1200\n",
      "4   Pandas      NaN   60days      2500\n",
      "5     None  25000.0    35day      1300\n",
      "6    Spark  25000.0               1400\n",
      "7   Python  22000.0   50days      1600\n",
      "<class 'pandas.core.frame.DataFrame'>\n"
     ]
    },
    {
     "data": {
      "text/html": [
       "<div>\n",
       "<style scoped>\n",
       "    .dataframe tbody tr th:only-of-type {\n",
       "        vertical-align: middle;\n",
       "    }\n",
       "\n",
       "    .dataframe tbody tr th {\n",
       "        vertical-align: top;\n",
       "    }\n",
       "\n",
       "    .dataframe thead th {\n",
       "        text-align: right;\n",
       "    }\n",
       "</style>\n",
       "<table border=\"1\" class=\"dataframe\">\n",
       "  <thead>\n",
       "    <tr style=\"text-align: right;\">\n",
       "      <th></th>\n",
       "      <th>Courses</th>\n",
       "      <th>Fee</th>\n",
       "      <th>Duration</th>\n",
       "      <th>Discount</th>\n",
       "    </tr>\n",
       "  </thead>\n",
       "  <tbody>\n",
       "    <tr>\n",
       "      <th>1</th>\n",
       "      <td>PySpark</td>\n",
       "      <td>25000.0</td>\n",
       "      <td>50days</td>\n",
       "      <td>1800</td>\n",
       "    </tr>\n",
       "    <tr>\n",
       "      <th>2</th>\n",
       "      <td>Hadoop</td>\n",
       "      <td>23000.0</td>\n",
       "      <td>55days</td>\n",
       "      <td>500</td>\n",
       "    </tr>\n",
       "    <tr>\n",
       "      <th>3</th>\n",
       "      <td>Python</td>\n",
       "      <td>24000.0</td>\n",
       "      <td>40days</td>\n",
       "      <td>700</td>\n",
       "    </tr>\n",
       "    <tr>\n",
       "      <th>4</th>\n",
       "      <td>Pandas</td>\n",
       "      <td>NaN</td>\n",
       "      <td>60days</td>\n",
       "      <td>2000</td>\n",
       "    </tr>\n",
       "    <tr>\n",
       "      <th>5</th>\n",
       "      <td>None</td>\n",
       "      <td>25000.0</td>\n",
       "      <td>35day</td>\n",
       "      <td>800</td>\n",
       "    </tr>\n",
       "    <tr>\n",
       "      <th>6</th>\n",
       "      <td>Spark</td>\n",
       "      <td>25000.0</td>\n",
       "      <td></td>\n",
       "      <td>900</td>\n",
       "    </tr>\n",
       "    <tr>\n",
       "      <th>7</th>\n",
       "      <td>Python</td>\n",
       "      <td>22000.0</td>\n",
       "      <td>50days</td>\n",
       "      <td>1100</td>\n",
       "    </tr>\n",
       "  </tbody>\n",
       "</table>\n",
       "</div>"
      ],
      "text/plain": [
       "   Courses      Fee Duration  Discount\n",
       "1  PySpark  25000.0   50days      1800\n",
       "2   Hadoop  23000.0   55days       500\n",
       "3   Python  24000.0   40days       700\n",
       "4   Pandas      NaN   60days      2000\n",
       "5     None  25000.0    35day       800\n",
       "6    Spark  25000.0                900\n",
       "7   Python  22000.0   50days      1100"
      ]
     },
     "execution_count": 12,
     "metadata": {},
     "output_type": "execute_result"
    }
   ],
   "source": [
    "import pandas as pd\n",
    "import numpy as np\n",
    "technologies   = {\n",
    "    'Courses':[\"Spark\",\"PySpark\",\"Hadoop\",\"Python\",\"Pandas\",None,\"Spark\",\"Python\"],\n",
    "    'Fee' :[22000,25000,23000,24000,np.nan,25000,25000,22000],\n",
    "    'Duration':['30day','50days','55days','40days','60days','35day','','50days'],\n",
    "    'Discount':[1000,2300,1000,1200,2500,1300,1400,1600]\n",
    "          }\n",
    "row_labels=['r0','r1','r2','r3','r4','r5','r6','r7']\n",
    "#df = pd.DataFrame(technologies, index=row_labels)\n",
    "df = pd.DataFrame(technologies)\n",
    "print(df)\n",
    "print(type(df))\n",
    "df['Discount'] = df['Discount'] - 500\n",
    "df\n",
    "df2 = df[6:]\n",
    "df2\n",
    "df.drop(df.index[2:])\n",
    "df1=df.drop(0)\n",
    "df1"
   ]
  },
  {
   "cell_type": "code",
   "execution_count": 13,
   "id": "495eb13d",
   "metadata": {},
   "outputs": [
    {
     "data": {
      "text/plain": [
       "' Q6 '"
      ]
     },
     "execution_count": 13,
     "metadata": {},
     "output_type": "execute_result"
    }
   ],
   "source": [
    "''' Q6 '''"
   ]
  },
  {
   "cell_type": "code",
   "execution_count": 14,
   "id": "05860b9a",
   "metadata": {},
   "outputs": [
    {
     "data": {
      "text/plain": [
       "' Q6\\nPandas deals with the following three data structures −\\n\\tSeries\\n\\tDataFrame\\n\\tPanel\\nSeries \\t\\t:1 1D labeled homogeneous array, size immutable.\\nData Frames\\t: 2 General 2D labeled, size-mutable tabular structure with potentially heterogeneously typed columns.\\nPanel\\t\\t: 3 General 3D labeled, size-mutable array.\\n'"
      ]
     },
     "execution_count": 14,
     "metadata": {},
     "output_type": "execute_result"
    }
   ],
   "source": [
    "''' Q6\n",
    "Pandas deals with the following three data structures −\n",
    "\tSeries\n",
    "\tDataFrame\n",
    "\tPanel\n",
    "Series \t\t:1 1D labeled homogeneous array, size immutable.\n",
    "Data Frames\t: 2 General 2D labeled, size-mutable tabular structure with potentially heterogeneously typed columns.\n",
    "Panel\t\t: 3 General 3D labeled, size-mutable array.\n",
    "'''"
   ]
  },
  {
   "cell_type": "code",
   "execution_count": 15,
   "id": "973852a7",
   "metadata": {},
   "outputs": [
    {
     "data": {
      "text/plain": [
       "' Q7 '"
      ]
     },
     "execution_count": 15,
     "metadata": {},
     "output_type": "execute_result"
    }
   ],
   "source": [
    "''' Q7 '''"
   ]
  },
  {
   "cell_type": "code",
   "execution_count": 16,
   "id": "958b8000",
   "metadata": {},
   "outputs": [
    {
     "data": {
      "text/plain": [
       "pandas.core.frame.DataFrame"
      ]
     },
     "execution_count": 16,
     "metadata": {},
     "output_type": "execute_result"
    }
   ],
   "source": [
    "import pandas as pd\n",
    "\n",
    "courses = pd.Series(['Spark','PySpark','Hadoop'])\n",
    "fees = pd.Series([22000,23000,24000])\n",
    "discount = pd.Series([1000,2300,2400])\n",
    "\n",
    "df = pd.concat([courses,fees,discount],axis=1)\n",
    "df\n",
    "type(df)"
   ]
  },
  {
   "cell_type": "code",
   "execution_count": 17,
   "id": "5c4de012",
   "metadata": {},
   "outputs": [
    {
     "ename": "SyntaxError",
     "evalue": "invalid syntax (344161491.py, line 29)",
     "output_type": "error",
     "traceback": [
      "\u001b[1;36m  File \u001b[1;32m\"C:\\Users\\rakeshkp\\AppData\\Local\\Temp\\1\\ipykernel_23044\\344161491.py\"\u001b[1;36m, line \u001b[1;32m29\u001b[0m\n\u001b[1;33m    ''' Q4\u001b[0m\n\u001b[1;37m        ^\u001b[0m\n\u001b[1;31mSyntaxError\u001b[0m\u001b[1;31m:\u001b[0m invalid syntax\n"
     ]
    }
   ],
   "source": [
    "''' Q1 \n",
    "data =[ 3,4,5,6,78 ] \n",
    "ser = pd.Series(data)\n",
    "print(ser)\n",
    "type(ser)\n",
    "\n",
    "'''\n",
    "\n",
    "''' Q2\n",
    "mylist = ['g', 'e', 'e', 'k', 's',10,20,30,40 , [11,22,33,44,55]]\n",
    "ser = pd.Series(mylist)\n",
    "print(ser)\n",
    "'''\n",
    "\n",
    "''' Q3\n",
    "Q3. Create a Pandas DataFrame that contains the following data:\n",
    "\n",
    "import lxml\n",
    "import pandas as pd\n",
    "\n",
    "df = pd.read_csv(\"student.csv\")\n",
    "type(df)\n",
    "\n",
    "Name \tAge \tGender\n",
    "0 \tAlice \t25 \tfemale\n",
    "1 \tBob \t30 \tmale\n",
    "2 \tArnold \t27 \tfemale\n",
    "\n",
    "''' Q4\n",
    "\n",
    "A Pandas DataFrame is a 2 dimensional data structure, like a 2 dimensional array, or a table with rows and columns\n",
    "import pandas as pd\n",
    "\n",
    "fruits = [ \"apple\" ,\"orange\" ,\"jackfruit\" ]\n",
    "ftser1 = pd.Series(fruits, index=[11,33,88])\n",
    "type(ftser1)\n",
    "print(ftser1)\n",
    "print(\"\")\n",
    "states = [\"jammu\" ,\"maharastra\", \"bihar\"]\n",
    "stser1 = pd.Series(states)\n",
    "type(states)\n",
    "print(stser1)\n",
    "\n",
    "\n",
    "A pandas series is a one-dimensional data structure that comprises of key-value pair, where keys/labels are the indices and values are the values stored on that index. It is similar to a python dictionary, except it provides more freedom to manipulate and edit the data.\n",
    "\n",
    "fruits_jack = [\"apples\", \"oranges\", \"bananas\"]\n",
    "fruits_john = [\"guavas\", \"kiwis\", \"strawberries\"]\n",
    "\n",
    "all_fruits = { \"jack_fruit\" : fruits_jack, \n",
    "               \"john_fruit\" : fruits_john  }\n",
    "\n",
    "new_fruit = pd.DataFrame(all_fruits)\n",
    "type(new_fruit)\n",
    "print(new_fruit)\n",
    "'''\n",
    "\n",
    "''' Q5\n",
    "\n",
    "import pandas as pd\n",
    "import numpy as np\n",
    "technologies   = {\n",
    "    'Courses':[\"Spark\",\"PySpark\",\"Hadoop\",\"Python\",\"Pandas\",None,\"Spark\",\"Python\"],\n",
    "    'Fee' :[22000,25000,23000,24000,np.nan,25000,25000,22000],\n",
    "    'Duration':['30day','50days','55days','40days','60days','35day','','50days'],\n",
    "    'Discount':[1000,2300,1000,1200,2500,1300,1400,1600]\n",
    "          }\n",
    "row_labels=['r0','r1','r2','r3','r4','r5','r6','r7']\n",
    "#df = pd.DataFrame(technologies, index=row_labels)\n",
    "df = pd.DataFrame(technologies)\n",
    "print(df)\n",
    "print(type(df))\n",
    "df['Discount'] = df['Discount'] - 500\n",
    "df\n",
    "df2 = df[6:]\n",
    "df2\n",
    "df.drop(df.index[2:])\n",
    "df1=df.drop(0)\n",
    "df1\n",
    "'''''\n",
    "\n",
    "''' Q6\n",
    "Pandas deals with the following three data structures −\n",
    "\tSeries\n",
    "\tDataFrame\n",
    "\tPanel\n",
    "Series \t\t:1 1D labeled homogeneous array, size immutable.\n",
    "Data Frames\t: 2 General 2D labeled, size-mutable tabular structure with potentially heterogeneously typed columns.\n",
    "Panel\t\t: 3 General 3D labeled, size-mutable array.\n",
    "'''\n",
    "\n",
    "''' Q7\n",
    "You can create a DataFrame from multiple Series objects by adding each series as a columns. \n",
    "By using concat() method you can merge multiple series together into DataFrame. \n",
    "\n",
    "import pandas as pd\n",
    "\n",
    "courses = pd.Series(['Spark','PySpark','Hadoop'])\n",
    "fees = pd.Series([22000,23000,24000])\n",
    "discount = pd.Series([1000,2300,2400])\n",
    "\n",
    "df = pd.concat([courses,fees,discount],axis=1)\n",
    "df\n",
    "type(df)\n",
    "'''"
   ]
  },
  {
   "cell_type": "code",
   "execution_count": null,
   "id": "ad63627e",
   "metadata": {},
   "outputs": [],
   "source": []
  }
 ],
 "metadata": {
  "kernelspec": {
   "display_name": "Python 3 (ipykernel)",
   "language": "python",
   "name": "python3"
  },
  "language_info": {
   "codemirror_mode": {
    "name": "ipython",
    "version": 3
   },
   "file_extension": ".py",
   "mimetype": "text/x-python",
   "name": "python",
   "nbconvert_exporter": "python",
   "pygments_lexer": "ipython3",
   "version": "3.9.13"
  }
 },
 "nbformat": 4,
 "nbformat_minor": 5
}
